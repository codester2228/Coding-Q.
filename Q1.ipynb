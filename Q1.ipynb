{
  "nbformat": 4,
  "nbformat_minor": 0,
  "metadata": {
    "colab": {
      "name": "Q1",
      "provenance": [],
      "authorship_tag": "ABX9TyOsYV2t+iUpxaIQScR52iY/",
      "include_colab_link": true
    },
    "kernelspec": {
      "name": "python3",
      "display_name": "Python 3"
    }
  },
  "cells": [
    {
      "cell_type": "markdown",
      "metadata": {
        "id": "view-in-github",
        "colab_type": "text"
      },
      "source": [
        "<a href=\"https://colab.research.google.com/github/codester2228/cfsol/blob/master/Q1.ipynb\" target=\"_parent\"><img src=\"https://colab.research.google.com/assets/colab-badge.svg\" alt=\"Open In Colab\"/></a>"
      ]
    },
    {
      "cell_type": "code",
      "metadata": {
        "id": "AObF79DVeZE9",
        "colab_type": "code",
        "colab": {}
      },
      "source": [
        "import pandas as pd\n",
        "import numpy as np"
      ],
      "execution_count": 378,
      "outputs": []
    },
    {
      "cell_type": "code",
      "metadata": {
        "id": "Bm1D4LX8hLzm",
        "colab_type": "code",
        "colab": {}
      },
      "source": [
        "from dateutil.relativedelta import *\n",
        "from dateutil.parser import *\n",
        "import datetime  #import required datetime libraries"
      ],
      "execution_count": 371,
      "outputs": []
    },
    {
      "cell_type": "code",
      "metadata": {
        "id": "6RajLaGnhN4X",
        "colab_type": "code",
        "colab": {
          "base_uri": "https://localhost:8080/",
          "height": 53
        },
        "outputId": "627c32c1-4b31-4a4e-9011-e00c42ef514f"
      },
      "source": [
        "d1=parse(\"12 sept 19\")   #testing parsing\n",
        "d2=parse(\"september 2020 13\")\n",
        "print(d1)\n",
        "print(d2)"
      ],
      "execution_count": 372,
      "outputs": [
        {
          "output_type": "stream",
          "text": [
            "2019-09-12 00:00:00\n",
            "2020-09-13 00:00:00\n"
          ],
          "name": "stdout"
        }
      ]
    },
    {
      "cell_type": "code",
      "metadata": {
        "id": "wRGwfjjihcHl",
        "colab_type": "code",
        "colab": {
          "base_uri": "https://localhost:8080/",
          "height": 35
        },
        "outputId": "125a4dbd-a482-4eb6-ee3f-05089517671b"
      },
      "source": [
        "print(relativedelta(d2,d1)) #testing difference of dates"
      ],
      "execution_count": 373,
      "outputs": [
        {
          "output_type": "stream",
          "text": [
            "relativedelta(years=+1, days=+1)\n"
          ],
          "name": "stdout"
        }
      ]
    },
    {
      "cell_type": "code",
      "metadata": {
        "id": "X0wWbk3EFYtc",
        "colab_type": "code",
        "colab": {
          "resources": {
            "http://localhost:8080/nbextensions/google.colab/files.js": {
              "data": "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",
              "ok": true,
              "headers": [
                [
                  "content-type",
                  "application/javascript"
                ]
              ],
              "status": 200,
              "status_text": "OK"
            }
          },
          "base_uri": "https://localhost:8080/",
          "height": 92
        },
        "outputId": "bfca6ea7-8535-4c23-efd9-57ddd6a4ae4d"
      },
      "source": [
        "#importing dummy csv from pc \n",
        "from google.colab import files\n",
        "\n",
        "uploaded = files.upload()\n",
        "\n",
        "for fn in uploaded.keys():\n",
        "  print('User uploaded file \"{name}\" with length {length} bytes'.format(\n",
        "      name=fn, length=len(uploaded[fn])))"
      ],
      "execution_count": 468,
      "outputs": [
        {
          "output_type": "display_data",
          "data": {
            "text/html": [
              "\n",
              "     <input type=\"file\" id=\"files-d7f16cf3-ea96-4a9a-8e40-0f28b6794d8d\" name=\"files[]\" multiple disabled\n",
              "        style=\"border:none\" />\n",
              "     <output id=\"result-d7f16cf3-ea96-4a9a-8e40-0f28b6794d8d\">\n",
              "      Upload widget is only available when the cell has been executed in the\n",
              "      current browser session. Please rerun this cell to enable.\n",
              "      </output>\n",
              "      <script src=\"/nbextensions/google.colab/files.js\"></script> "
            ],
            "text/plain": [
              "<IPython.core.display.HTML object>"
            ]
          },
          "metadata": {
            "tags": []
          }
        },
        {
          "output_type": "stream",
          "text": [
            "Saving Q1 - Copy - Copy.csv to Q1 - Copy - Copy (7).csv\n",
            "User uploaded file \"Q1 - Copy - Copy.csv\" with length 360 bytes\n"
          ],
          "name": "stdout"
        }
      ]
    },
    {
      "cell_type": "code",
      "metadata": {
        "id": "YTZgrvQUHvTd",
        "colab_type": "code",
        "colab": {}
      },
      "source": [
        "df=pd.read_csv(\"Q1 - Copy - Copy (7).csv\")"
      ],
      "execution_count": 469,
      "outputs": []
    },
    {
      "cell_type": "code",
      "metadata": {
        "id": "XSAeA4r0H4S3",
        "colab_type": "code",
        "colab": {
          "base_uri": "https://localhost:8080/",
          "height": 331
        },
        "outputId": "c8ceb831-3d94-4893-ff22-642d03a95930"
      },
      "source": [
        "df.head(10) #random dates in string format\n"
      ],
      "execution_count": 470,
      "outputs": [
        {
          "output_type": "execute_result",
          "data": {
            "text/html": [
              "<div>\n",
              "<style scoped>\n",
              "    .dataframe tbody tr th:only-of-type {\n",
              "        vertical-align: middle;\n",
              "    }\n",
              "\n",
              "    .dataframe tbody tr th {\n",
              "        vertical-align: top;\n",
              "    }\n",
              "\n",
              "    .dataframe thead th {\n",
              "        text-align: right;\n",
              "    }\n",
              "</style>\n",
              "<table border=\"1\" class=\"dataframe\">\n",
              "  <thead>\n",
              "    <tr style=\"text-align: right;\">\n",
              "      <th></th>\n",
              "      <th>date1</th>\n",
              "      <th>age</th>\n",
              "      <th>date2</th>\n",
              "      <th>date3</th>\n",
              "      <th>name</th>\n",
              "    </tr>\n",
              "  </thead>\n",
              "  <tbody>\n",
              "    <tr>\n",
              "      <th>0</th>\n",
              "      <td>12-Sep-19</td>\n",
              "      <td>20</td>\n",
              "      <td>NaN</td>\n",
              "      <td>31.03.20</td>\n",
              "      <td>dsv</td>\n",
              "    </tr>\n",
              "    <tr>\n",
              "      <th>1</th>\n",
              "      <td>28-08-2020</td>\n",
              "      <td>20</td>\n",
              "      <td>12-Sep-19</td>\n",
              "      <td>22 2020 feb</td>\n",
              "      <td>vdsv</td>\n",
              "    </tr>\n",
              "    <tr>\n",
              "      <th>2</th>\n",
              "      <td>31.03.20</td>\n",
              "      <td>20</td>\n",
              "      <td>28 12 09</td>\n",
              "      <td>2020 31 jan</td>\n",
              "      <td>v</td>\n",
              "    </tr>\n",
              "    <tr>\n",
              "      <th>3</th>\n",
              "      <td>24-Jan-20</td>\n",
              "      <td>20</td>\n",
              "      <td>12 12 31</td>\n",
              "      <td>31.03.20</td>\n",
              "      <td>dvd</td>\n",
              "    </tr>\n",
              "    <tr>\n",
              "      <th>4</th>\n",
              "      <td>2020 31 jan</td>\n",
              "      <td>20</td>\n",
              "      <td>31.03.20</td>\n",
              "      <td>12-Sep-19</td>\n",
              "      <td>sdv</td>\n",
              "    </tr>\n",
              "    <tr>\n",
              "      <th>5</th>\n",
              "      <td>22 2020 feb</td>\n",
              "      <td>20</td>\n",
              "      <td>2020 31 jan</td>\n",
              "      <td>22 2020 feb</td>\n",
              "      <td>xc</td>\n",
              "    </tr>\n",
              "    <tr>\n",
              "      <th>6</th>\n",
              "      <td>12 12 31</td>\n",
              "      <td>20</td>\n",
              "      <td>22 2020 feb</td>\n",
              "      <td>12-Sep-19</td>\n",
              "      <td>sdv</td>\n",
              "    </tr>\n",
              "    <tr>\n",
              "      <th>7</th>\n",
              "      <td>12-Sep-19</td>\n",
              "      <td>20</td>\n",
              "      <td>28-08-2020</td>\n",
              "      <td>2020 31 jan</td>\n",
              "      <td>ee</td>\n",
              "    </tr>\n",
              "    <tr>\n",
              "      <th>8</th>\n",
              "      <td>12 12 31</td>\n",
              "      <td>20</td>\n",
              "      <td>12 12 31</td>\n",
              "      <td>NaN</td>\n",
              "      <td>sc</td>\n",
              "    </tr>\n",
              "  </tbody>\n",
              "</table>\n",
              "</div>"
            ],
            "text/plain": [
              "         date1  age         date2        date3  name\n",
              "0    12-Sep-19    20          NaN     31.03.20   dsv\n",
              "1   28-08-2020    20    12-Sep-19  22 2020 feb  vdsv\n",
              "2     31.03.20    20     28 12 09  2020 31 jan    v \n",
              "3    24-Jan-20    20     12 12 31     31.03.20   dvd\n",
              "4  2020 31 jan    20     31.03.20    12-Sep-19   sdv\n",
              "5  22 2020 feb    20  2020 31 jan  22 2020 feb   xc \n",
              "6     12 12 31    20  22 2020 feb    12-Sep-19   sdv\n",
              "7    12-Sep-19    20   28-08-2020  2020 31 jan    ee\n",
              "8     12 12 31    20     12 12 31          NaN    sc"
            ]
          },
          "metadata": {
            "tags": []
          },
          "execution_count": 470
        }
      ]
    },
    {
      "cell_type": "code",
      "metadata": {
        "id": "kAQQs9v6JYJ5",
        "colab_type": "code",
        "colab": {
          "base_uri": "https://localhost:8080/",
          "height": 35
        },
        "outputId": "e3ac4e5f-f22d-4da8-9483-f4bc6adc90f0"
      },
      "source": [
        "df[\"date2\"][0]\n",
        "parse(df[\"date1\"][0])"
      ],
      "execution_count": 471,
      "outputs": [
        {
          "output_type": "execute_result",
          "data": {
            "text/plain": [
              "datetime.datetime(2019, 9, 12, 0, 0)"
            ]
          },
          "metadata": {
            "tags": []
          },
          "execution_count": 471
        }
      ]
    },
    {
      "cell_type": "code",
      "metadata": {
        "id": "SKD486osZ19u",
        "colab_type": "code",
        "colab": {
          "base_uri": "https://localhost:8080/",
          "height": 35
        },
        "outputId": "172939b5-026a-425d-950f-a845773da9ac"
      },
      "source": [
        "type(parse(df['date1'][0]))"
      ],
      "execution_count": 472,
      "outputs": [
        {
          "output_type": "execute_result",
          "data": {
            "text/plain": [
              "datetime.datetime"
            ]
          },
          "metadata": {
            "tags": []
          },
          "execution_count": 472
        }
      ]
    },
    {
      "cell_type": "code",
      "metadata": {
        "id": "Ok5TgnQaaShM",
        "colab_type": "code",
        "colab": {
          "base_uri": "https://localhost:8080/",
          "height": 35
        },
        "outputId": "7ff114d9-bde0-4bcf-de42-5b89e3bed972"
      },
      "source": [
        "df[\"date2\"][0]==df[\"date2\"][0] # to check if not NaN"
      ],
      "execution_count": 473,
      "outputs": [
        {
          "output_type": "execute_result",
          "data": {
            "text/plain": [
              "False"
            ]
          },
          "metadata": {
            "tags": []
          },
          "execution_count": 473
        }
      ]
    },
    {
      "cell_type": "code",
      "metadata": {
        "id": "C6yVnwNGh7NM",
        "colab_type": "code",
        "colab": {}
      },
      "source": [
        "#Required Function datetime\n",
        "dates=[]\n",
        "def datetime(df):\n",
        "  for column in df:   #iterating each column\n",
        "    i=0\n",
        "    while(df[column][i]!=df[column][i]):    #checking first value is NaN or not\n",
        "      i+=1                                  #if yes,then move to next value\n",
        "    if(isinstance(df[column][i],str)):      #if data is a string,it may be a datetime format\n",
        "      try:                                  #using try to check if string can be parsed or not,if it can be parsed to date,parse and store\n",
        "            if(parse(df[column][i])):\n",
        "              dates.append(column)                             #creating list of date columns\n",
        "              for i in range(df[column].shape[0]):  \n",
        "                        if(df[column][i]==df[column][i]):                #parse only in not a NaN value\n",
        "                                df[column][i]=parse(df[column][i])\n",
        "      except:                                                            #if data throws an error while parsing,it may be a string like name etc, so pass\n",
        "        pass\n",
        "\n",
        "\n",
        "          \n",
        "\n",
        "\n",
        "\n",
        "\n",
        "      \n",
        "\n"
      ],
      "execution_count": 474,
      "outputs": []
    },
    {
      "cell_type": "code",
      "metadata": {
        "id": "M46D0gs5Rp8h",
        "colab_type": "code",
        "colab": {
          "base_uri": "https://localhost:8080/",
          "height": 108
        },
        "outputId": "e0d942d1-b0ec-4af7-a536-0ebe8d498faa"
      },
      "source": [
        "\n",
        "datetime(df)"
      ],
      "execution_count": 475,
      "outputs": [
        {
          "output_type": "stream",
          "text": [
            "/usr/local/lib/python3.6/dist-packages/ipykernel_launcher.py:14: SettingWithCopyWarning: \n",
            "A value is trying to be set on a copy of a slice from a DataFrame\n",
            "\n",
            "See the caveats in the documentation: https://pandas.pydata.org/pandas-docs/stable/user_guide/indexing.html#returning-a-view-versus-a-copy\n",
            "  \n"
          ],
          "name": "stderr"
        }
      ]
    },
    {
      "cell_type": "code",
      "metadata": {
        "id": "lu-PxQy-FM_I",
        "colab_type": "code",
        "colab": {
          "base_uri": "https://localhost:8080/",
          "height": 331
        },
        "outputId": "5ae2820d-9b1f-454b-de59-86349ca04561"
      },
      "source": [
        "df.head(10)"
      ],
      "execution_count": 476,
      "outputs": [
        {
          "output_type": "execute_result",
          "data": {
            "text/html": [
              "<div>\n",
              "<style scoped>\n",
              "    .dataframe tbody tr th:only-of-type {\n",
              "        vertical-align: middle;\n",
              "    }\n",
              "\n",
              "    .dataframe tbody tr th {\n",
              "        vertical-align: top;\n",
              "    }\n",
              "\n",
              "    .dataframe thead th {\n",
              "        text-align: right;\n",
              "    }\n",
              "</style>\n",
              "<table border=\"1\" class=\"dataframe\">\n",
              "  <thead>\n",
              "    <tr style=\"text-align: right;\">\n",
              "      <th></th>\n",
              "      <th>date1</th>\n",
              "      <th>age</th>\n",
              "      <th>date2</th>\n",
              "      <th>date3</th>\n",
              "      <th>name</th>\n",
              "    </tr>\n",
              "  </thead>\n",
              "  <tbody>\n",
              "    <tr>\n",
              "      <th>0</th>\n",
              "      <td>2019-09-12 00:00:00</td>\n",
              "      <td>20</td>\n",
              "      <td>NaN</td>\n",
              "      <td>2020-03-31 00:00:00</td>\n",
              "      <td>dsv</td>\n",
              "    </tr>\n",
              "    <tr>\n",
              "      <th>1</th>\n",
              "      <td>2020-08-28 00:00:00</td>\n",
              "      <td>20</td>\n",
              "      <td>2019-09-12 00:00:00</td>\n",
              "      <td>2020-02-22 00:00:00</td>\n",
              "      <td>vdsv</td>\n",
              "    </tr>\n",
              "    <tr>\n",
              "      <th>2</th>\n",
              "      <td>2020-03-31 00:00:00</td>\n",
              "      <td>20</td>\n",
              "      <td>2009-12-28 00:00:00</td>\n",
              "      <td>2020-01-31 00:00:00</td>\n",
              "      <td>v</td>\n",
              "    </tr>\n",
              "    <tr>\n",
              "      <th>3</th>\n",
              "      <td>2020-01-24 00:00:00</td>\n",
              "      <td>20</td>\n",
              "      <td>2031-12-12 00:00:00</td>\n",
              "      <td>2020-03-31 00:00:00</td>\n",
              "      <td>dvd</td>\n",
              "    </tr>\n",
              "    <tr>\n",
              "      <th>4</th>\n",
              "      <td>2020-01-31 00:00:00</td>\n",
              "      <td>20</td>\n",
              "      <td>2020-03-31 00:00:00</td>\n",
              "      <td>2019-09-12 00:00:00</td>\n",
              "      <td>sdv</td>\n",
              "    </tr>\n",
              "    <tr>\n",
              "      <th>5</th>\n",
              "      <td>2020-02-22 00:00:00</td>\n",
              "      <td>20</td>\n",
              "      <td>2020-01-31 00:00:00</td>\n",
              "      <td>2020-02-22 00:00:00</td>\n",
              "      <td>xc</td>\n",
              "    </tr>\n",
              "    <tr>\n",
              "      <th>6</th>\n",
              "      <td>2031-12-12 00:00:00</td>\n",
              "      <td>20</td>\n",
              "      <td>2020-02-22 00:00:00</td>\n",
              "      <td>2019-09-12 00:00:00</td>\n",
              "      <td>sdv</td>\n",
              "    </tr>\n",
              "    <tr>\n",
              "      <th>7</th>\n",
              "      <td>2019-09-12 00:00:00</td>\n",
              "      <td>20</td>\n",
              "      <td>2020-08-28 00:00:00</td>\n",
              "      <td>2020-01-31 00:00:00</td>\n",
              "      <td>ee</td>\n",
              "    </tr>\n",
              "    <tr>\n",
              "      <th>8</th>\n",
              "      <td>2031-12-12 00:00:00</td>\n",
              "      <td>20</td>\n",
              "      <td>2031-12-12 00:00:00</td>\n",
              "      <td>NaN</td>\n",
              "      <td>sc</td>\n",
              "    </tr>\n",
              "  </tbody>\n",
              "</table>\n",
              "</div>"
            ],
            "text/plain": [
              "                 date1  age                 date2                date3  name\n",
              "0  2019-09-12 00:00:00    20                  NaN  2020-03-31 00:00:00   dsv\n",
              "1  2020-08-28 00:00:00    20  2019-09-12 00:00:00  2020-02-22 00:00:00  vdsv\n",
              "2  2020-03-31 00:00:00    20  2009-12-28 00:00:00  2020-01-31 00:00:00    v \n",
              "3  2020-01-24 00:00:00    20  2031-12-12 00:00:00  2020-03-31 00:00:00   dvd\n",
              "4  2020-01-31 00:00:00    20  2020-03-31 00:00:00  2019-09-12 00:00:00   sdv\n",
              "5  2020-02-22 00:00:00    20  2020-01-31 00:00:00  2020-02-22 00:00:00   xc \n",
              "6  2031-12-12 00:00:00    20  2020-02-22 00:00:00  2019-09-12 00:00:00   sdv\n",
              "7  2019-09-12 00:00:00    20  2020-08-28 00:00:00  2020-01-31 00:00:00    ee\n",
              "8  2031-12-12 00:00:00    20  2031-12-12 00:00:00                  NaN    sc"
            ]
          },
          "metadata": {
            "tags": []
          },
          "execution_count": 476
        }
      ]
    },
    {
      "cell_type": "code",
      "metadata": {
        "id": "VPAPLsFhbh7A",
        "colab_type": "code",
        "colab": {
          "base_uri": "https://localhost:8080/",
          "height": 36
        },
        "outputId": "439583bb-cd04-4268-f336-159cc66afb31"
      },
      "source": [
        "\"So, all the random inputs of date have been parsed to proper date time format.\""
      ],
      "execution_count": 463,
      "outputs": [
        {
          "output_type": "execute_result",
          "data": {
            "application/vnd.google.colaboratory.intrinsic+json": {
              "type": "string"
            },
            "text/plain": [
              "'So, all the random inputs of date have been parsed to proper date time format.'"
            ]
          },
          "metadata": {
            "tags": []
          },
          "execution_count": 463
        }
      ]
    },
    {
      "cell_type": "code",
      "metadata": {
        "id": "MFO2B4q4B64O",
        "colab_type": "code",
        "colab": {}
      },
      "source": [
        "#since we have no info about the missing dates in this dummy dataset, we should drop these columns.But , in a dataset with more info we can find out a certain date which can be relevant to  other informations."
      ],
      "execution_count": 464,
      "outputs": []
    },
    {
      "cell_type": "code",
      "metadata": {
        "id": "8lRq3bTpFHMM",
        "colab_type": "code",
        "colab": {}
      },
      "source": [
        "df=df.dropna(axis=0) #deleted row where date was missing"
      ],
      "execution_count": 477,
      "outputs": []
    },
    {
      "cell_type": "code",
      "metadata": {
        "id": "zGPhrFBkF61q",
        "colab_type": "code",
        "colab": {
          "base_uri": "https://localhost:8080/",
          "height": 269
        },
        "outputId": "f0c2a0bf-ec90-42cb-bcc5-efad4c4deba4"
      },
      "source": [
        "df.head(10)"
      ],
      "execution_count": 478,
      "outputs": [
        {
          "output_type": "execute_result",
          "data": {
            "text/html": [
              "<div>\n",
              "<style scoped>\n",
              "    .dataframe tbody tr th:only-of-type {\n",
              "        vertical-align: middle;\n",
              "    }\n",
              "\n",
              "    .dataframe tbody tr th {\n",
              "        vertical-align: top;\n",
              "    }\n",
              "\n",
              "    .dataframe thead th {\n",
              "        text-align: right;\n",
              "    }\n",
              "</style>\n",
              "<table border=\"1\" class=\"dataframe\">\n",
              "  <thead>\n",
              "    <tr style=\"text-align: right;\">\n",
              "      <th></th>\n",
              "      <th>date1</th>\n",
              "      <th>age</th>\n",
              "      <th>date2</th>\n",
              "      <th>date3</th>\n",
              "      <th>name</th>\n",
              "    </tr>\n",
              "  </thead>\n",
              "  <tbody>\n",
              "    <tr>\n",
              "      <th>1</th>\n",
              "      <td>2020-08-28 00:00:00</td>\n",
              "      <td>20</td>\n",
              "      <td>2019-09-12 00:00:00</td>\n",
              "      <td>2020-02-22 00:00:00</td>\n",
              "      <td>vdsv</td>\n",
              "    </tr>\n",
              "    <tr>\n",
              "      <th>2</th>\n",
              "      <td>2020-03-31 00:00:00</td>\n",
              "      <td>20</td>\n",
              "      <td>2009-12-28 00:00:00</td>\n",
              "      <td>2020-01-31 00:00:00</td>\n",
              "      <td>v</td>\n",
              "    </tr>\n",
              "    <tr>\n",
              "      <th>3</th>\n",
              "      <td>2020-01-24 00:00:00</td>\n",
              "      <td>20</td>\n",
              "      <td>2031-12-12 00:00:00</td>\n",
              "      <td>2020-03-31 00:00:00</td>\n",
              "      <td>dvd</td>\n",
              "    </tr>\n",
              "    <tr>\n",
              "      <th>4</th>\n",
              "      <td>2020-01-31 00:00:00</td>\n",
              "      <td>20</td>\n",
              "      <td>2020-03-31 00:00:00</td>\n",
              "      <td>2019-09-12 00:00:00</td>\n",
              "      <td>sdv</td>\n",
              "    </tr>\n",
              "    <tr>\n",
              "      <th>5</th>\n",
              "      <td>2020-02-22 00:00:00</td>\n",
              "      <td>20</td>\n",
              "      <td>2020-01-31 00:00:00</td>\n",
              "      <td>2020-02-22 00:00:00</td>\n",
              "      <td>xc</td>\n",
              "    </tr>\n",
              "    <tr>\n",
              "      <th>6</th>\n",
              "      <td>2031-12-12 00:00:00</td>\n",
              "      <td>20</td>\n",
              "      <td>2020-02-22 00:00:00</td>\n",
              "      <td>2019-09-12 00:00:00</td>\n",
              "      <td>sdv</td>\n",
              "    </tr>\n",
              "    <tr>\n",
              "      <th>7</th>\n",
              "      <td>2019-09-12 00:00:00</td>\n",
              "      <td>20</td>\n",
              "      <td>2020-08-28 00:00:00</td>\n",
              "      <td>2020-01-31 00:00:00</td>\n",
              "      <td>ee</td>\n",
              "    </tr>\n",
              "  </tbody>\n",
              "</table>\n",
              "</div>"
            ],
            "text/plain": [
              "                 date1  age                 date2                date3  name\n",
              "1  2020-08-28 00:00:00    20  2019-09-12 00:00:00  2020-02-22 00:00:00  vdsv\n",
              "2  2020-03-31 00:00:00    20  2009-12-28 00:00:00  2020-01-31 00:00:00    v \n",
              "3  2020-01-24 00:00:00    20  2031-12-12 00:00:00  2020-03-31 00:00:00   dvd\n",
              "4  2020-01-31 00:00:00    20  2020-03-31 00:00:00  2019-09-12 00:00:00   sdv\n",
              "5  2020-02-22 00:00:00    20  2020-01-31 00:00:00  2020-02-22 00:00:00   xc \n",
              "6  2031-12-12 00:00:00    20  2020-02-22 00:00:00  2019-09-12 00:00:00   sdv\n",
              "7  2019-09-12 00:00:00    20  2020-08-28 00:00:00  2020-01-31 00:00:00    ee"
            ]
          },
          "metadata": {
            "tags": []
          },
          "execution_count": 478
        }
      ]
    },
    {
      "cell_type": "code",
      "metadata": {
        "id": "mc9qdMScnzn7",
        "colab_type": "code",
        "colab": {
          "base_uri": "https://localhost:8080/",
          "height": 53
        },
        "outputId": "e68e1323-897c-4ec9-d1ba-5e655afd7f07"
      },
      "source": [
        "print(dates)  #list containing name of date columns\n",
        "len(dates)"
      ],
      "execution_count": 448,
      "outputs": [
        {
          "output_type": "stream",
          "text": [
            "['date1', 'date2', 'date3']\n"
          ],
          "name": "stdout"
        },
        {
          "output_type": "execute_result",
          "data": {
            "text/plain": [
              "3"
            ]
          },
          "metadata": {
            "tags": []
          },
          "execution_count": 448
        }
      ]
    },
    {
      "cell_type": "code",
      "metadata": {
        "id": "qqnQ6wG976KB",
        "colab_type": "code",
        "colab": {
          "base_uri": "https://localhost:8080/",
          "height": 35
        },
        "outputId": "3fb6b215-6f3b-4aec-8777-bb2f984a0668"
      },
      "source": [
        "type(df[\"date1\"][1])"
      ],
      "execution_count": 450,
      "outputs": [
        {
          "output_type": "execute_result",
          "data": {
            "text/plain": [
              "datetime.datetime"
            ]
          },
          "metadata": {
            "tags": []
          },
          "execution_count": 450
        }
      ]
    },
    {
      "cell_type": "code",
      "metadata": {
        "id": "DtJEalKP-BYH",
        "colab_type": "code",
        "colab": {
          "base_uri": "https://localhost:8080/",
          "height": 206
        },
        "outputId": "ca1a2bfa-e149-4d68-a356-f262aa815c91"
      },
      "source": [
        "df.head()"
      ],
      "execution_count": 482,
      "outputs": [
        {
          "output_type": "execute_result",
          "data": {
            "text/html": [
              "<div>\n",
              "<style scoped>\n",
              "    .dataframe tbody tr th:only-of-type {\n",
              "        vertical-align: middle;\n",
              "    }\n",
              "\n",
              "    .dataframe tbody tr th {\n",
              "        vertical-align: top;\n",
              "    }\n",
              "\n",
              "    .dataframe thead th {\n",
              "        text-align: right;\n",
              "    }\n",
              "</style>\n",
              "<table border=\"1\" class=\"dataframe\">\n",
              "  <thead>\n",
              "    <tr style=\"text-align: right;\">\n",
              "      <th></th>\n",
              "      <th>date1</th>\n",
              "      <th>age</th>\n",
              "      <th>date2</th>\n",
              "      <th>date3</th>\n",
              "      <th>name</th>\n",
              "      <th>Discounted_Price</th>\n",
              "    </tr>\n",
              "  </thead>\n",
              "  <tbody>\n",
              "    <tr>\n",
              "      <th>1</th>\n",
              "      <td>2020-08-28 00:00:00</td>\n",
              "      <td>20</td>\n",
              "      <td>2019-09-12 00:00:00</td>\n",
              "      <td>2020-02-22 00:00:00</td>\n",
              "      <td>vdsv</td>\n",
              "      <td>351 days</td>\n",
              "    </tr>\n",
              "    <tr>\n",
              "      <th>2</th>\n",
              "      <td>2020-03-31 00:00:00</td>\n",
              "      <td>20</td>\n",
              "      <td>2009-12-28 00:00:00</td>\n",
              "      <td>2020-01-31 00:00:00</td>\n",
              "      <td>v</td>\n",
              "      <td>3746 days</td>\n",
              "    </tr>\n",
              "    <tr>\n",
              "      <th>3</th>\n",
              "      <td>2020-01-24 00:00:00</td>\n",
              "      <td>20</td>\n",
              "      <td>2031-12-12 00:00:00</td>\n",
              "      <td>2020-03-31 00:00:00</td>\n",
              "      <td>dvd</td>\n",
              "      <td>4340 days</td>\n",
              "    </tr>\n",
              "    <tr>\n",
              "      <th>4</th>\n",
              "      <td>2020-01-31 00:00:00</td>\n",
              "      <td>20</td>\n",
              "      <td>2020-03-31 00:00:00</td>\n",
              "      <td>2019-09-12 00:00:00</td>\n",
              "      <td>sdv</td>\n",
              "      <td>60 days</td>\n",
              "    </tr>\n",
              "    <tr>\n",
              "      <th>5</th>\n",
              "      <td>2020-02-22 00:00:00</td>\n",
              "      <td>20</td>\n",
              "      <td>2020-01-31 00:00:00</td>\n",
              "      <td>2020-02-22 00:00:00</td>\n",
              "      <td>xc</td>\n",
              "      <td>22 days</td>\n",
              "    </tr>\n",
              "  </tbody>\n",
              "</table>\n",
              "</div>"
            ],
            "text/plain": [
              "                 date1  age   ...  name Discounted_Price\n",
              "1  2020-08-28 00:00:00    20  ...  vdsv         351 days\n",
              "2  2020-03-31 00:00:00    20  ...    v         3746 days\n",
              "3  2020-01-24 00:00:00    20  ...   dvd        4340 days\n",
              "4  2020-01-31 00:00:00    20  ...   sdv          60 days\n",
              "5  2020-02-22 00:00:00    20  ...   xc           22 days\n",
              "\n",
              "[5 rows x 6 columns]"
            ]
          },
          "metadata": {
            "tags": []
          },
          "execution_count": 482
        }
      ]
    },
    {
      "cell_type": "code",
      "metadata": {
        "id": "kBvs2D_1Ji9Y",
        "colab_type": "code",
        "colab": {
          "base_uri": "https://localhost:8080/",
          "height": 269
        },
        "outputId": "ae0883ba-244b-4e18-e9f4-0b7c775c063c"
      },
      "source": [
        "df.reset_index(drop=True,inplace=True)  #resetting index to 0"
      ],
      "execution_count": 486,
      "outputs": [
        {
          "output_type": "execute_result",
          "data": {
            "text/html": [
              "<div>\n",
              "<style scoped>\n",
              "    .dataframe tbody tr th:only-of-type {\n",
              "        vertical-align: middle;\n",
              "    }\n",
              "\n",
              "    .dataframe tbody tr th {\n",
              "        vertical-align: top;\n",
              "    }\n",
              "\n",
              "    .dataframe thead th {\n",
              "        text-align: right;\n",
              "    }\n",
              "</style>\n",
              "<table border=\"1\" class=\"dataframe\">\n",
              "  <thead>\n",
              "    <tr style=\"text-align: right;\">\n",
              "      <th></th>\n",
              "      <th>date1</th>\n",
              "      <th>age</th>\n",
              "      <th>date2</th>\n",
              "      <th>date3</th>\n",
              "      <th>name</th>\n",
              "      <th>Discounted_Price</th>\n",
              "    </tr>\n",
              "  </thead>\n",
              "  <tbody>\n",
              "    <tr>\n",
              "      <th>0</th>\n",
              "      <td>2020-08-28 00:00:00</td>\n",
              "      <td>20</td>\n",
              "      <td>2019-09-12 00:00:00</td>\n",
              "      <td>2020-02-22 00:00:00</td>\n",
              "      <td>vdsv</td>\n",
              "      <td>351 days</td>\n",
              "    </tr>\n",
              "    <tr>\n",
              "      <th>1</th>\n",
              "      <td>2020-03-31 00:00:00</td>\n",
              "      <td>20</td>\n",
              "      <td>2009-12-28 00:00:00</td>\n",
              "      <td>2020-01-31 00:00:00</td>\n",
              "      <td>v</td>\n",
              "      <td>3746 days</td>\n",
              "    </tr>\n",
              "    <tr>\n",
              "      <th>2</th>\n",
              "      <td>2020-01-24 00:00:00</td>\n",
              "      <td>20</td>\n",
              "      <td>2031-12-12 00:00:00</td>\n",
              "      <td>2020-03-31 00:00:00</td>\n",
              "      <td>dvd</td>\n",
              "      <td>4340 days</td>\n",
              "    </tr>\n",
              "    <tr>\n",
              "      <th>3</th>\n",
              "      <td>2020-01-31 00:00:00</td>\n",
              "      <td>20</td>\n",
              "      <td>2020-03-31 00:00:00</td>\n",
              "      <td>2019-09-12 00:00:00</td>\n",
              "      <td>sdv</td>\n",
              "      <td>60 days</td>\n",
              "    </tr>\n",
              "    <tr>\n",
              "      <th>4</th>\n",
              "      <td>2020-02-22 00:00:00</td>\n",
              "      <td>20</td>\n",
              "      <td>2020-01-31 00:00:00</td>\n",
              "      <td>2020-02-22 00:00:00</td>\n",
              "      <td>xc</td>\n",
              "      <td>22 days</td>\n",
              "    </tr>\n",
              "    <tr>\n",
              "      <th>5</th>\n",
              "      <td>2031-12-12 00:00:00</td>\n",
              "      <td>20</td>\n",
              "      <td>2020-02-22 00:00:00</td>\n",
              "      <td>2019-09-12 00:00:00</td>\n",
              "      <td>sdv</td>\n",
              "      <td>4311 days</td>\n",
              "    </tr>\n",
              "    <tr>\n",
              "      <th>6</th>\n",
              "      <td>2019-09-12 00:00:00</td>\n",
              "      <td>20</td>\n",
              "      <td>2020-08-28 00:00:00</td>\n",
              "      <td>2020-01-31 00:00:00</td>\n",
              "      <td>ee</td>\n",
              "      <td>351 days</td>\n",
              "    </tr>\n",
              "  </tbody>\n",
              "</table>\n",
              "</div>"
            ],
            "text/plain": [
              "                 date1  age   ...  name Discounted_Price\n",
              "0  2020-08-28 00:00:00    20  ...  vdsv         351 days\n",
              "1  2020-03-31 00:00:00    20  ...    v         3746 days\n",
              "2  2020-01-24 00:00:00    20  ...   dvd        4340 days\n",
              "3  2020-01-31 00:00:00    20  ...   sdv          60 days\n",
              "4  2020-02-22 00:00:00    20  ...   xc           22 days\n",
              "5  2031-12-12 00:00:00    20  ...   sdv        4311 days\n",
              "6  2019-09-12 00:00:00    20  ...    ee         351 days\n",
              "\n",
              "[7 rows x 6 columns]"
            ]
          },
          "metadata": {
            "tags": []
          },
          "execution_count": 486
        }
      ]
    },
    {
      "cell_type": "code",
      "metadata": {
        "id": "UV5ExZoYJv2f",
        "colab_type": "code",
        "colab": {}
      },
      "source": [
        "for i in range(len(dates)):         #creating new columns and subtracting each date columns with others one by one\n",
        "  for j in range(i+1,len(dates)):\n",
        "    name=\"diff\"+str(i+1)+\"-\"+str(j+1)              #naming columns\n",
        "    df[name]=abs(df[str(dates[i])]-df[str(dates[j])])"
      ],
      "execution_count": 508,
      "outputs": []
    },
    {
      "cell_type": "code",
      "metadata": {
        "id": "2wEYTeeDQahu",
        "colab_type": "code",
        "colab": {
          "base_uri": "https://localhost:8080/",
          "height": 269
        },
        "outputId": "0581c399-e760-4f8f-fad8-d8d8a02d760b"
      },
      "source": [
        "df.head(10)"
      ],
      "execution_count": 513,
      "outputs": [
        {
          "output_type": "execute_result",
          "data": {
            "text/html": [
              "<div>\n",
              "<style scoped>\n",
              "    .dataframe tbody tr th:only-of-type {\n",
              "        vertical-align: middle;\n",
              "    }\n",
              "\n",
              "    .dataframe tbody tr th {\n",
              "        vertical-align: top;\n",
              "    }\n",
              "\n",
              "    .dataframe thead th {\n",
              "        text-align: right;\n",
              "    }\n",
              "</style>\n",
              "<table border=\"1\" class=\"dataframe\">\n",
              "  <thead>\n",
              "    <tr style=\"text-align: right;\">\n",
              "      <th></th>\n",
              "      <th>date1</th>\n",
              "      <th>age</th>\n",
              "      <th>date2</th>\n",
              "      <th>date3</th>\n",
              "      <th>name</th>\n",
              "      <th>diff1-2</th>\n",
              "      <th>diff1-3</th>\n",
              "      <th>diff2-3</th>\n",
              "    </tr>\n",
              "  </thead>\n",
              "  <tbody>\n",
              "    <tr>\n",
              "      <th>0</th>\n",
              "      <td>2020-08-28 00:00:00</td>\n",
              "      <td>20</td>\n",
              "      <td>2019-09-12 00:00:00</td>\n",
              "      <td>2020-02-22 00:00:00</td>\n",
              "      <td>vdsv</td>\n",
              "      <td>351 days</td>\n",
              "      <td>188 days</td>\n",
              "      <td>163 days</td>\n",
              "    </tr>\n",
              "    <tr>\n",
              "      <th>1</th>\n",
              "      <td>2020-03-31 00:00:00</td>\n",
              "      <td>20</td>\n",
              "      <td>2009-12-28 00:00:00</td>\n",
              "      <td>2020-01-31 00:00:00</td>\n",
              "      <td>v</td>\n",
              "      <td>3746 days</td>\n",
              "      <td>60 days</td>\n",
              "      <td>3686 days</td>\n",
              "    </tr>\n",
              "    <tr>\n",
              "      <th>2</th>\n",
              "      <td>2020-01-24 00:00:00</td>\n",
              "      <td>20</td>\n",
              "      <td>2031-12-12 00:00:00</td>\n",
              "      <td>2020-03-31 00:00:00</td>\n",
              "      <td>dvd</td>\n",
              "      <td>4340 days</td>\n",
              "      <td>67 days</td>\n",
              "      <td>4273 days</td>\n",
              "    </tr>\n",
              "    <tr>\n",
              "      <th>3</th>\n",
              "      <td>2020-01-31 00:00:00</td>\n",
              "      <td>20</td>\n",
              "      <td>2020-03-31 00:00:00</td>\n",
              "      <td>2019-09-12 00:00:00</td>\n",
              "      <td>sdv</td>\n",
              "      <td>60 days</td>\n",
              "      <td>141 days</td>\n",
              "      <td>201 days</td>\n",
              "    </tr>\n",
              "    <tr>\n",
              "      <th>4</th>\n",
              "      <td>2020-02-22 00:00:00</td>\n",
              "      <td>20</td>\n",
              "      <td>2020-01-31 00:00:00</td>\n",
              "      <td>2020-02-22 00:00:00</td>\n",
              "      <td>xc</td>\n",
              "      <td>22 days</td>\n",
              "      <td>0 days</td>\n",
              "      <td>22 days</td>\n",
              "    </tr>\n",
              "    <tr>\n",
              "      <th>5</th>\n",
              "      <td>2031-12-12 00:00:00</td>\n",
              "      <td>20</td>\n",
              "      <td>2020-02-22 00:00:00</td>\n",
              "      <td>2019-09-12 00:00:00</td>\n",
              "      <td>sdv</td>\n",
              "      <td>4311 days</td>\n",
              "      <td>4474 days</td>\n",
              "      <td>163 days</td>\n",
              "    </tr>\n",
              "    <tr>\n",
              "      <th>6</th>\n",
              "      <td>2019-09-12 00:00:00</td>\n",
              "      <td>20</td>\n",
              "      <td>2020-08-28 00:00:00</td>\n",
              "      <td>2020-01-31 00:00:00</td>\n",
              "      <td>ee</td>\n",
              "      <td>351 days</td>\n",
              "      <td>141 days</td>\n",
              "      <td>210 days</td>\n",
              "    </tr>\n",
              "  </tbody>\n",
              "</table>\n",
              "</div>"
            ],
            "text/plain": [
              "                 date1  age                 date2  ...   diff1-2   diff1-3   diff2-3\n",
              "0  2020-08-28 00:00:00    20  2019-09-12 00:00:00  ...  351 days  188 days  163 days\n",
              "1  2020-03-31 00:00:00    20  2009-12-28 00:00:00  ... 3746 days   60 days 3686 days\n",
              "2  2020-01-24 00:00:00    20  2031-12-12 00:00:00  ... 4340 days   67 days 4273 days\n",
              "3  2020-01-31 00:00:00    20  2020-03-31 00:00:00  ...   60 days  141 days  201 days\n",
              "4  2020-02-22 00:00:00    20  2020-01-31 00:00:00  ...   22 days    0 days   22 days\n",
              "5  2031-12-12 00:00:00    20  2020-02-22 00:00:00  ... 4311 days 4474 days  163 days\n",
              "6  2019-09-12 00:00:00    20  2020-08-28 00:00:00  ...  351 days  141 days  210 days\n",
              "\n",
              "[7 rows x 8 columns]"
            ]
          },
          "metadata": {
            "tags": []
          },
          "execution_count": 513
        }
      ]
    },
    {
      "cell_type": "code",
      "metadata": {
        "id": "6KmUccKyQ4DI",
        "colab_type": "code",
        "colab": {}
      },
      "source": [
        "So, we completed the objective of The given question!"
      ],
      "execution_count": null,
      "outputs": []
    }
  ]
}